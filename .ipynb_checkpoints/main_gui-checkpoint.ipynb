{
 "cells": [
  {
   "cell_type": "code",
   "execution_count": null,
   "metadata": {},
   "outputs": [],
   "source": [
    "from PyQt5.QtCore import Qt\n",
    "from PyQt5.QtWidgets import QApplication, QMainWindow, QLabel, QLineEdit, QPushButton\n",
    "import sys\n",
    "import mysql.connector\n",
    "\n",
    "from datetime import datetime\n",
    "import lib.func_process as proc\n",
    "import lib.func_database as db"
   ]
  },
  {
   "cell_type": "markdown",
   "metadata": {},
   "source": [
    "1.存数据（完成）\n",
    "2.数据可视化（尚未）"
   ]
  },
  {
   "cell_type": "code",
   "execution_count": null,
   "metadata": {},
   "outputs": [],
   "source": [
    "# a custom class that inherit from QMainWindow\n",
    "class MyWindow(QMainWindow):\n",
    "    def __init__(self, *args, **kwargs):\n",
    "        super(MyWindow, self).__init__(*args, **kwargs)\n",
    "        self.setGeometry(200, 200, 300, 300) # setGeometry(xpos, ypos, width, height)\n",
    "        self.setWindowTitle(\"Main\")\n",
    "        \n",
    "        self.label = QLabel(self)\n",
    "        self.label.setText(\"Entry:\")\n",
    "        self.label.move(16,50) # xpos, ypos\n",
    "\n",
    "        # Create textbox\n",
    "        self.entry = QLineEdit(self)\n",
    "        self.entry.move(100,50)\n",
    "        self.entry.resize(60,20)\n",
    "\n",
    "        # create a button and bind it to its triggered function\n",
    "        self.b_start = QPushButton(self)\n",
    "        self.b_start.move(100,16)\n",
    "        self.b_start.setText(\"Start\")\n",
    "        self.b_start.clicked.connect(MyWindow.start_trigger)\n",
    "\n",
    "        \n",
    "    def start_trigger():\n",
    "        # read real-time data from eeg device: TCP\n",
    "        # process raw data, calculate indices\n",
    "        # self.display() # visualize\n",
    "        # write processed results to a processed_file\n",
    "        print(\"Start: %s\" % datetime.now())\n",
    "\n",
    "    def save_trigger():\n",
    "#         save processed_file\n",
    "#         save record\n",
    "#         dict = {}\n",
    "#         db.add_session(dict)\n",
    "#         print(\"Session data saved at %s, ID: %s\" % (datetime.now(), self.subject_id))\n",
    "        pass\n",
    "\n",
    "    def new_subject_trigger():\n",
    "#         db.add_person(name, ...)\n",
    "        pass\n",
    "    \n",
    "    def display():\n",
    "        pass\n",
    "    \n",
    "        \n",
    "\n"
   ]
  },
  {
   "cell_type": "code",
   "execution_count": null,
   "metadata": {},
   "outputs": [],
   "source": [
    "def window():\n",
    "    app = QApplication(sys.argv)\n",
    "    win = MyWindow()\n",
    "    win.show()\n",
    "    app.exec_()\n",
    "\n",
    "window()"
   ]
  },
  {
   "cell_type": "code",
   "execution_count": null,
   "metadata": {},
   "outputs": [],
   "source": []
  }
 ],
 "metadata": {
  "kernelspec": {
   "display_name": "Python 3",
   "language": "python",
   "name": "python3"
  },
  "language_info": {
   "codemirror_mode": {
    "name": "ipython",
    "version": 3
   },
   "file_extension": ".py",
   "mimetype": "text/x-python",
   "name": "python",
   "nbconvert_exporter": "python",
   "pygments_lexer": "ipython3",
   "version": "3.7.6"
  }
 },
 "nbformat": 4,
 "nbformat_minor": 4
}
