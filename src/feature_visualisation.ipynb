{
 "cells": [
  {
   "cell_type": "code",
   "execution_count": 1,
   "metadata": {},
   "outputs": [],
   "source": [
    "import pandas as pd\n",
    "import numpy as np\n",
    "import matplotlib.pyplot as plt"
   ]
  },
  {
   "cell_type": "code",
   "execution_count": 2,
   "metadata": {},
   "outputs": [
    {
     "data": {
      "text/plain": [
       "(30, 1)"
      ]
     },
     "execution_count": 2,
     "metadata": {},
     "output_type": "execute_result"
    }
   ],
   "source": [
    "data = pd.read_csv('../data/feature.txt', sep='\\t', header=None)\n",
    "data.shape"
   ]
  },
  {
   "cell_type": "code",
   "execution_count": 3,
   "metadata": {
    "scrolled": true
   },
   "outputs": [
    {
     "data": {
      "text/html": [
       "<div>\n",
       "<style scoped>\n",
       "    .dataframe tbody tr th:only-of-type {\n",
       "        vertical-align: middle;\n",
       "    }\n",
       "\n",
       "    .dataframe tbody tr th {\n",
       "        vertical-align: top;\n",
       "    }\n",
       "\n",
       "    .dataframe thead th {\n",
       "        text-align: right;\n",
       "    }\n",
       "</style>\n",
       "<table border=\"1\" class=\"dataframe\">\n",
       "  <thead>\n",
       "    <tr style=\"text-align: right;\">\n",
       "      <th></th>\n",
       "      <th>0</th>\n",
       "    </tr>\n",
       "  </thead>\n",
       "  <tbody>\n",
       "    <tr>\n",
       "      <th>0</th>\n",
       "      <td>3.1796129e-06   7.2312070e-06   2.4565701e-...</td>\n",
       "    </tr>\n",
       "    <tr>\n",
       "      <th>1</th>\n",
       "      <td>3.2304942e-06   7.3261223e-06   2.4866266e-...</td>\n",
       "    </tr>\n",
       "    <tr>\n",
       "      <th>2</th>\n",
       "      <td>3.3236843e-06   7.5603793e-06   2.5702006e-...</td>\n",
       "    </tr>\n",
       "    <tr>\n",
       "      <th>3</th>\n",
       "      <td>3.3937366e-06   7.7033124e-06   2.6140057e-...</td>\n",
       "    </tr>\n",
       "    <tr>\n",
       "      <th>4</th>\n",
       "      <td>3.4214624e-06   7.7753657e-06   2.6441572e-...</td>\n",
       "    </tr>\n",
       "    <tr>\n",
       "      <th>5</th>\n",
       "      <td>2.6073576e-06   5.9374965e-06   2.0233143e-...</td>\n",
       "    </tr>\n",
       "    <tr>\n",
       "      <th>6</th>\n",
       "      <td>2.8318091e-06   6.4676327e-06   2.1945489e-...</td>\n",
       "    </tr>\n",
       "    <tr>\n",
       "      <th>7</th>\n",
       "      <td>3.0492142e-06   6.9324474e-06   2.3552969e-...</td>\n",
       "    </tr>\n",
       "    <tr>\n",
       "      <th>8</th>\n",
       "      <td>3.1459977e-06   7.1318741e-06   2.4230241e-...</td>\n",
       "    </tr>\n",
       "    <tr>\n",
       "      <th>9</th>\n",
       "      <td>3.2184480e-06   7.3090473e-06   2.4837324e-...</td>\n",
       "    </tr>\n",
       "    <tr>\n",
       "      <th>10</th>\n",
       "      <td>3.2924129e-06   7.4929935e-06   2.5424960e-...</td>\n",
       "    </tr>\n",
       "    <tr>\n",
       "      <th>11</th>\n",
       "      <td>3.3386918e-06   7.5876016e-06   2.5767777e-...</td>\n",
       "    </tr>\n",
       "    <tr>\n",
       "      <th>12</th>\n",
       "      <td>3.1986326e-06   7.2629686e-06   2.4622857e-...</td>\n",
       "    </tr>\n",
       "    <tr>\n",
       "      <th>13</th>\n",
       "      <td>3.3669599e-06   7.6301840e-06   2.5929966e-...</td>\n",
       "    </tr>\n",
       "    <tr>\n",
       "      <th>14</th>\n",
       "      <td>3.4253895e-06   7.7869052e-06   2.6475929e-...</td>\n",
       "    </tr>\n",
       "    <tr>\n",
       "      <th>15</th>\n",
       "      <td>3.4146735e-06   7.7835077e-06   2.6437998e-...</td>\n",
       "    </tr>\n",
       "    <tr>\n",
       "      <th>16</th>\n",
       "      <td>3.2058572e-06   7.2961476e-06   2.4838338e-...</td>\n",
       "    </tr>\n",
       "    <tr>\n",
       "      <th>17</th>\n",
       "      <td>3.3120288e-06   7.5235050e-06   2.5507577e-...</td>\n",
       "    </tr>\n",
       "    <tr>\n",
       "      <th>18</th>\n",
       "      <td>3.4682489e-06   7.8880233e-06   2.6814119e-...</td>\n",
       "    </tr>\n",
       "    <tr>\n",
       "      <th>19</th>\n",
       "      <td>3.4949890e-06   7.9444461e-06   2.6881361e-...</td>\n",
       "    </tr>\n",
       "    <tr>\n",
       "      <th>20</th>\n",
       "      <td>3.5021028e-06   7.9706475e-06   2.7037499e-...</td>\n",
       "    </tr>\n",
       "    <tr>\n",
       "      <th>21</th>\n",
       "      <td>3.5610468e-06   8.0914931e-06   2.7477341e-...</td>\n",
       "    </tr>\n",
       "    <tr>\n",
       "      <th>22</th>\n",
       "      <td>3.5244000e-06   8.0309492e-06   2.7288990e-...</td>\n",
       "    </tr>\n",
       "    <tr>\n",
       "      <th>23</th>\n",
       "      <td>3.4611110e-06   7.8667279e-06   2.6708877e-...</td>\n",
       "    </tr>\n",
       "    <tr>\n",
       "      <th>24</th>\n",
       "      <td>3.5012143e-06   7.9667997e-06   2.7114244e-...</td>\n",
       "    </tr>\n",
       "    <tr>\n",
       "      <th>25</th>\n",
       "      <td>3.5151892e-06   7.9893072e-06   2.7128118e-...</td>\n",
       "    </tr>\n",
       "    <tr>\n",
       "      <th>26</th>\n",
       "      <td>3.5344059e-06   8.0767398e-06   2.7396627e-...</td>\n",
       "    </tr>\n",
       "    <tr>\n",
       "      <th>27</th>\n",
       "      <td>3.5403588e-06   8.0612244e-06   2.7374883e-...</td>\n",
       "    </tr>\n",
       "    <tr>\n",
       "      <th>28</th>\n",
       "      <td>3.5836443e-06   8.1355691e-06   2.7704053e-...</td>\n",
       "    </tr>\n",
       "    <tr>\n",
       "      <th>29</th>\n",
       "      <td>3.5564317e-06   8.0810343e-06   2.7454782e-...</td>\n",
       "    </tr>\n",
       "  </tbody>\n",
       "</table>\n",
       "</div>"
      ],
      "text/plain": [
       "                                                    0\n",
       "0      3.1796129e-06   7.2312070e-06   2.4565701e-...\n",
       "1      3.2304942e-06   7.3261223e-06   2.4866266e-...\n",
       "2      3.3236843e-06   7.5603793e-06   2.5702006e-...\n",
       "3      3.3937366e-06   7.7033124e-06   2.6140057e-...\n",
       "4      3.4214624e-06   7.7753657e-06   2.6441572e-...\n",
       "5      2.6073576e-06   5.9374965e-06   2.0233143e-...\n",
       "6      2.8318091e-06   6.4676327e-06   2.1945489e-...\n",
       "7      3.0492142e-06   6.9324474e-06   2.3552969e-...\n",
       "8      3.1459977e-06   7.1318741e-06   2.4230241e-...\n",
       "9      3.2184480e-06   7.3090473e-06   2.4837324e-...\n",
       "10     3.2924129e-06   7.4929935e-06   2.5424960e-...\n",
       "11     3.3386918e-06   7.5876016e-06   2.5767777e-...\n",
       "12     3.1986326e-06   7.2629686e-06   2.4622857e-...\n",
       "13     3.3669599e-06   7.6301840e-06   2.5929966e-...\n",
       "14     3.4253895e-06   7.7869052e-06   2.6475929e-...\n",
       "15     3.4146735e-06   7.7835077e-06   2.6437998e-...\n",
       "16     3.2058572e-06   7.2961476e-06   2.4838338e-...\n",
       "17     3.3120288e-06   7.5235050e-06   2.5507577e-...\n",
       "18     3.4682489e-06   7.8880233e-06   2.6814119e-...\n",
       "19     3.4949890e-06   7.9444461e-06   2.6881361e-...\n",
       "20     3.5021028e-06   7.9706475e-06   2.7037499e-...\n",
       "21     3.5610468e-06   8.0914931e-06   2.7477341e-...\n",
       "22     3.5244000e-06   8.0309492e-06   2.7288990e-...\n",
       "23     3.4611110e-06   7.8667279e-06   2.6708877e-...\n",
       "24     3.5012143e-06   7.9667997e-06   2.7114244e-...\n",
       "25     3.5151892e-06   7.9893072e-06   2.7128118e-...\n",
       "26     3.5344059e-06   8.0767398e-06   2.7396627e-...\n",
       "27     3.5403588e-06   8.0612244e-06   2.7374883e-...\n",
       "28     3.5836443e-06   8.1355691e-06   2.7704053e-...\n",
       "29     3.5564317e-06   8.0810343e-06   2.7454782e-..."
      ]
     },
     "execution_count": 3,
     "metadata": {},
     "output_type": "execute_result"
    }
   ],
   "source": [
    "data"
   ]
  },
  {
   "cell_type": "code",
   "execution_count": 4,
   "metadata": {},
   "outputs": [
    {
     "name": "stdout",
     "output_type": "stream",
     "text": [
      "<class 'pandas.core.series.Series'>\n",
      "(30,)\n"
     ]
    }
   ],
   "source": [
    "print(type(data[0]))\n",
    "print(data[0].shape)"
   ]
  },
  {
   "cell_type": "code",
   "execution_count": 5,
   "metadata": {},
   "outputs": [
    {
     "data": {
      "text/plain": [
       "str"
      ]
     },
     "execution_count": 5,
     "metadata": {},
     "output_type": "execute_result"
    }
   ],
   "source": [
    "type(data[0][0])"
   ]
  },
  {
   "cell_type": "code",
   "execution_count": 6,
   "metadata": {},
   "outputs": [],
   "source": [
    "\n",
    "# ch_34 = [1.0/(1.0+np.exp(-float(x))) for x in series.split('   ') if x] # sigmoid: map to (0,1)\n",
    "arr = []\n",
    "for i in range(30):\n",
    "    series = data[0][i]\n",
    "    ch = [float(x) for x in series.split('   ') if x]\n",
    "    arr.append(ch)"
   ]
  },
  {
   "cell_type": "code",
   "execution_count": 10,
   "metadata": {},
   "outputs": [
    {
     "data": {
      "image/png": "[encoded data removed]",
      "text/plain": [
       "<Figure size 1728x864 with 1 Axes>"
      ]
     },
     "metadata": {
      "needs_background": "light"
     },
     "output_type": "display_data"
    }
   ],
   "source": [
    "plt.figure(figsize=(24,12))\n",
    "for a in range(10):\n",
    "    plt.plot(arr[a], color='red') # low in red\n",
    "for a in range(10,20):\n",
    "    plt.plot(arr[a], color='blue') # mid in blue\n",
    "for a in range(20,30):\n",
    "    plt.plot(arr[a], color='yellow') # high in yellow\n",
    "plt.show()"
   ]
  },
  {
   "cell_type": "code",
   "execution_count": null,
   "metadata": {},
   "outputs": [],
   "source": []
  }
 ],
 "metadata": {
  "kernelspec": {
   "display_name": "Python 3",
   "language": "python",
   "name": "python3"
  },
  "language_info": {
   "codemirror_mode": {
    "name": "ipython",
    "version": 3
   },
   "file_extension": ".py",
   "mimetype": "text/x-python",
   "name": "python",
   "nbconvert_exporter": "python",
   "pygments_lexer": "ipython3",
   "version": "3.8.3"
  }
 },
 "nbformat": 4,
 "nbformat_minor": 2
}
